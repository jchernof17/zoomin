{
 "cells": [
  {
   "cell_type": "code",
   "execution_count": 17,
   "metadata": {},
   "outputs": [
    {
     "data": {
      "text/plain": [
       "<networkx.classes.graph.Graph at 0x1c6a1acacc8>"
      ]
     },
     "execution_count": 17,
     "metadata": {},
     "output_type": "execute_result"
    },
    {
     "data": {
      "image/png": "[encoded data removed]",
      "text/plain": [
       "<Figure size 432x288 with 1 Axes>"
      ]
     },
     "metadata": {},
     "output_type": "display_data"
    }
   ],
   "source": [
    "import networkx as nx\n",
    "from parse import read_input_file, write_output_file\n",
    "from utils import is_valid_network, average_pairwise_distance\n",
    "import matplotlib as plt\n",
    "\n",
    "import sys\n",
    "\n",
    "def generate_tree(n):\n",
    "    \"\"\"\n",
    "    Args:\n",
    "        n: int\n",
    "    \n",
    "    Returns:\n",
    "        T: networkx.Graph [Tree of n vertices]\n",
    "    \"\"\"\n",
    "    T = nx.random_tree(n,4)\n",
    "    #plt.subplot(121)\n",
    "    \n",
    "    nx.draw(T)\n",
    "    #plt.show()\n",
    "    return T\n",
    "\n",
    "generate_tree(14)"
   ]
  },
  {
   "cell_type": "code",
   "execution_count": null,
   "metadata": {},
   "outputs": [],
   "source": []
  },
  {
   "cell_type": "code",
   "execution_count": null,
   "metadata": {},
   "outputs": [],
   "source": []
  },
  {
   "cell_type": "code",
   "execution_count": null,
   "metadata": {},
   "outputs": [],
   "source": []
  }
 ],
 "metadata": {
  "kernelspec": {
   "display_name": "Python 3",
   "language": "python",
   "name": "python3"
  },
  "language_info": {
   "codemirror_mode": {
    "name": "ipython",
    "version": 3
   },
   "file_extension": ".py",
   "mimetype": "text/x-python",
   "name": "python",
   "nbconvert_exporter": "python",
   "pygments_lexer": "ipython3",
   "version": "3.7.4"
  }
 },
 "nbformat": 4,
 "nbformat_minor": 2
}
